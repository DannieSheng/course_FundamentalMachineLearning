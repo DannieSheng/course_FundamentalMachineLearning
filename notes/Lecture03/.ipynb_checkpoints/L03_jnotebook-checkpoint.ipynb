{
 "cells": [
  {
   "cell_type": "markdown",
   "metadata": {},
   "source": [
    "# Beer Foam Data Set\n",
    "\n",
    "We can repeat with another data set. (Obtained from: http://www.stat.ufl.edu/~winner/datasets.html) \n",
    "\n",
    "Source: A. Leike (2002). \"Demonstration of the Exponential Decay Law Using Beer Froth,\" European Journal of Physics, Vol. 23, #1, pp. 21-26\n",
    "\n",
    "Description: Measurements of wet foam height and beer height at various time points for 3 brands of beer. Author fits exponential decay model: $H(t) = H(0)e^{-\\lambda t}$\n",
    "\n",
    "Variables/Columns:\n",
    "<li> Time from pour (seconds)  4-8\n",
    "<li> Erdinger Weissbier foam height (cm)  10-16\n",
    "<li> Augustinerbrau Munchen foam height (cm)    18-24\n",
    "<li> Budweiser foam height (cm)    26-32\n",
    "\n"
   ]
  },
  {
   "cell_type": "code",
   "execution_count": 1,
   "metadata": {},
   "outputs": [],
   "source": [
    "#Import needed python libraries\n",
    "import numpy as np\n",
    "import matplotlib\n",
    "import matplotlib.pyplot as plt\n",
    "%matplotlib inline  \n",
    "import math \n",
    "\n",
    "\n",
    "#Load Data\n",
    "beerData = np.loadtxt('beer_foam.dat.txt')"
   ]
  },
  {
   "cell_type": "code",
   "execution_count": 2,
   "metadata": {},
   "outputs": [
    {
     "data": {
      "text/plain": [
       "<matplotlib.collections.PathCollection at 0x1125689e8>"
      ]
     },
     "execution_count": 2,
     "metadata": {},
     "output_type": "execute_result"
    },
    {
     "data": {
      "image/png": "[encoded data removed]",
      "text/plain": [
       "<matplotlib.figure.Figure at 0x10f175780>"
      ]
     },
     "metadata": {},
     "output_type": "display_data"
    }
   ],
   "source": [
    "plt.scatter(beerData[:,0], beerData[:,1], color = \"red\")\n",
    "plt.scatter(beerData[:,0], beerData[:,2], color = \"blue\")\n",
    "plt.scatter(beerData[:,0], beerData[:,3], color = \"orange\")"
   ]
  },
  {
   "cell_type": "code",
   "execution_count": 3,
   "metadata": {},
   "outputs": [
    {
     "data": {
      "text/plain": [
       "array([[   0. ,   17. ,   14. ,   14. ],\n",
       "       [  15. ,   16.1,   11.8,   12.1],\n",
       "       [  30. ,   14.9,   10.5,   10.9],\n",
       "       [  45. ,   14. ,    9.3,   10. ],\n",
       "       [  60. ,   13.2,    8.5,    9.3],\n",
       "       [  75. ,   12.5,    7.7,    8.6],\n",
       "       [  90. ,   11.9,    7.1,    8. ],\n",
       "       [ 105. ,   11.2,    6.5,    7.5],\n",
       "       [ 120. ,   10.7,    6. ,    7. ],\n",
       "       [ 150. ,    9.7,    5.3,    6.2],\n",
       "       [ 180. ,    8.9,    4.4,    5.5],\n",
       "       [ 210. ,    8.3,    3.5,    4.5],\n",
       "       [ 240. ,    7.5,    2.9,    3.5],\n",
       "       [ 300. ,    6.3,    1.3,    2. ],\n",
       "       [ 360. ,    5.2,    0.7,    0.9]])"
      ]
     },
     "execution_count": 3,
     "metadata": {},
     "output_type": "execute_result"
    }
   ],
   "source": [
    "beerData"
   ]
  },
  {
   "cell_type": "code",
   "execution_count": 17,
   "metadata": {},
   "outputs": [
    {
     "name": "stdout",
     "output_type": "stream",
     "text": [
      "[[  1.69990652e+01   1.33185634e+01   1.33771218e+01]\n",
      " [ -7.32230661e-02  -9.34651108e-02  -7.80529218e-02]\n",
      " [  1.99726195e-04   3.09252524e-04   2.37883684e-04]\n",
      " [ -2.43910866e-07  -4.14722564e-07  -3.31055859e-07]]\n"
     ]
    }
   ],
   "source": [
    "#Then we can fit the data using the polynomial curve fitting method we derived\n",
    "\n",
    "M = 3 #model order\n",
    "x = beerData[:,0]\n",
    "X = np.array([x**m for m in range(M+1)]).T\n",
    "w = np.zeros([M+1,3])\n",
    "for bType in range(0,3):\n",
    "    t = beerData[:,bType+1]\n",
    "    w[:,bType] = np.linalg.inv(X.T@X)@X.T@t\n",
    "\n",
    "print(w)\n"
   ]
  },
  {
   "cell_type": "code",
   "execution_count": 18,
   "metadata": {},
   "outputs": [
    {
     "data": {
      "image/png": "[encoded data removed]",
      "text/plain": [
       "<matplotlib.figure.Figure at 0x11b0c1b70>"
      ]
     },
     "metadata": {},
     "output_type": "display_data"
    }
   ],
   "source": [
    "#Now let us use the weights in test\n",
    "xrange = np.arange(beerData[0,0],beerData[beerData.shape[0]-1,0],0.001)  #get equally spaced points in the xrange\n",
    "X = np.array([xrange**m for m in range(w.shape[0])]).T\n",
    "\n",
    "#Set up figure\n",
    "fig = plt.figure()\n",
    "ax = fig.gca()\n",
    "ax.set_xticks(np.arange(0, 400, 25))\n",
    "ax.set_yticks(np.arange(0, 18, 1))\n",
    "plt.grid(True)\n",
    "\n",
    "#Make plot for each beer type\n",
    "for bType in range(0,3):\n",
    "    esty = X@w[:,bType] #compute the predicted value\n",
    "\n",
    "    #plot everything\n",
    "    p2 = plt.plot(x, beerData[:,bType+1], 'bo') #plot training data\n",
    "    p3 = plt.plot(xrange, esty, 'r') #plot estimated value\n",
    "\n",
    "    #add legend and axes labels\n",
    "    plt.ylabel('height') #label x and y axes\n",
    "    plt.xlabel('time')\n",
    "    plt.rcParams[\"axes.titlesize\"] = 10\n",
    "\n"
   ]
  },
  {
   "cell_type": "code",
   "execution_count": 21,
   "metadata": {},
   "outputs": [
    {
     "name": "stdout",
     "output_type": "stream",
     "text": [
      "[       1      275    75625 20796875]\n",
      "6.89443175896\n",
      "2.3779467937\n",
      "3.01759456252\n"
     ]
    }
   ],
   "source": [
    "#What will the foam height be at t = 275? \n",
    "t = 275\n",
    "x_test = np.array([t**m for m in range(w.shape[0])]).T\n",
    "print(x_test)\n",
    "for bType in range(0,3):\n",
    "    predicted_height = x_test@w[:,bType]\n",
    "    print(predicted_height)"
   ]
  },
  {
   "cell_type": "markdown",
   "metadata": {},
   "source": [
    "# Polynomial Curve Fitting and Ill-conditioned Systems\n"
   ]
  },
  {
   "cell_type": "code",
   "execution_count": 22,
   "metadata": {
    "collapsed": true
   },
   "outputs": [],
   "source": [
    "#Import needed python libraries\n",
    "import numpy as np\n",
    "import matplotlib\n",
    "import matplotlib.pyplot as plt\n",
    "%matplotlib inline  \n",
    "import math \n",
    "\n",
    "#Parameter Settings\n",
    "M = 7 #model order\n",
    "u = 1\n",
    "l = 0\n",
    "N = 10 #num of data points\n",
    "gVar = .15\n",
    "load = 0.005;\n",
    "\n",
    "#First, lets generate some simulated x- data.  \n",
    "x = np.random.uniform(l,u,N)\n"
   ]
  },
  {
   "cell_type": "code",
   "execution_count": 23,
   "metadata": {},
   "outputs": [
    {
     "name": "stdout",
     "output_type": "stream",
     "text": [
      "Condition number of autocorrelation matrix: 1.86828083432e+12\n",
      "Condition number of diagonally-loaded autocorrelation matrix: 3195.10386058\n",
      " \n",
      "Eigenspectrum of autocorrelation matrix: [  1.59705193e+01   2.61953728e+00   2.21821605e-01   6.36482465e-03\n",
      "   2.15512649e-04   2.08184651e-06   1.57982920e-08   8.54824341e-12]\n",
      " \n",
      "Eigenspectrum of diagonally-loaded autocorrelation matrix: [  1.59755193e+01   2.62453728e+00   2.26821605e-01   1.13648246e-02\n",
      "   5.21551265e-03   5.00208185e-03   5.00001580e-03   5.00000001e-03]\n"
     ]
    },
    {
     "data": {
      "image/png": "[encoded data removed]",
      "text/plain": [
       "<matplotlib.figure.Figure at 0x1198f9278>"
      ]
     },
     "metadata": {},
     "output_type": "display_data"
    },
    {
     "data": {
      "text/plain": [
       "<matplotlib.figure.Figure at 0x11512f630>"
      ]
     },
     "metadata": {},
     "output_type": "display_data"
    }
   ],
   "source": [
    "#Next, lets generate some noise\n",
    "e = np.random.normal(0,gVar,N)\n",
    "\n",
    "# Suppose the true function is a sine curve and add the noise\n",
    "t = np.sin(2*math.pi*x) + e\n",
    "\n",
    "#Then we can fit the data using the polynomial curve fitting method we derived\n",
    "X = np.array([x**m for m in range(M+1)]).T\n",
    "Z = X.T@X\n",
    "Z_w = X.T@X + load*np.identity(X.shape[1])\n",
    "w = np.linalg.inv(Z)@X.T@t\n",
    "w_w = np.linalg.inv(Z_w)@X.T@t\n",
    "\n",
    "#Now let us use the weights in test and plot results\n",
    "xrange = np.arange(l,u,0.001)  #get equally spaced points in the xrange\n",
    "y = np.sin(2*math.pi*xrange) #compute the true function value\n",
    "X = np.array([xrange**m for m in range(w.size)]).T\n",
    "esty = X@w #compute the predicted value\n",
    "esty_w = X@w_w\n",
    "\n",
    "#plot everything\n",
    "fig = plt.figure()\n",
    "ax = fig.gca()\n",
    "p1 = plt.plot(xrange, y, 'g') #plot true value\n",
    "p2 = plt.plot(x, t, 'bo') #plot training data\n",
    "p3 = plt.plot(xrange, esty, 'r') #plot estimated value\n",
    "p4 = plt.plot(xrange, esty_w, 'c') #plot estimated value\n",
    "\n",
    "#add legend and axes labels\n",
    "plt.ylabel('t') #label x and y axes\n",
    "plt.xlabel('x')\n",
    "ax.set_ylim(-2, 2)\n",
    "plt.rcParams[\"axes.titlesize\"] = 10\n",
    "plt.legend((p1[0],p2[0],p3[0], p4[0]),('True Function', 'Training Data', 'Estimated\\nPolynomial', 'Loaded\\nPolynomial'), fontsize=6)\n",
    "\n",
    "eZ, vZ = np.linalg.eig(Z)\n",
    "eZ_w, vZ_w = np.linalg.eig(Z_w)\n",
    "\n",
    "fig = plt.figure()\n",
    "\n",
    "\n",
    "print('Condition number of autocorrelation matrix:',max(eZ)/min(eZ) ) \n",
    "print('Condition number of diagonally-loaded autocorrelation matrix:', max(eZ_w)/min(eZ_w))\n",
    "print(' ')\n",
    "print('Eigenspectrum of autocorrelation matrix:', eZ)\n",
    "print(' ')\n",
    "print('Eigenspectrum of diagonally-loaded autocorrelation matrix:', eZ_w)"
   ]
  },
  {
   "cell_type": "markdown",
   "metadata": {},
   "source": [
    "# Curse of Dimensionality Illustrations"
   ]
  },
  {
   "cell_type": "code",
   "execution_count": null,
   "metadata": {},
   "outputs": [],
   "source": [
    "'''Illustrate that average distance between uniform random points increases when dimensionality\n",
    "increases and number of data points held constant. Illustrates that you need more and more\n",
    "points to characterize the unit cube as you go up in dimensionality.'''\n",
    "\n",
    "from mpl_toolkits.mplot3d import Axes3D\n",
    "import scipy.spatial.distance as sc \n",
    "import textwrap\n",
    "\n",
    "x1 = np.random.uniform(0,1,(N,1)) #generate N uniform random data points in the unit interval\n",
    "x2 = np.random.uniform(0,1,(N,2)) #generate N uniform random data points in the unit square\n",
    "x3 = np.random.uniform(0,1,(N,3)) #generate N uniform random data points in the unit cube\n",
    "y1 = np.mean(sc.pdist(x1, 'euclidean')) #compute avg euclidean distance between points\n",
    "y2 = np.mean(sc.pdist(x2, 'euclidean'))\n",
    "y3 = np.mean(sc.pdist(x3, 'euclidean'))\n",
    "z1 = np.mean(sc.pdist(x1, 'cityblock')) #compute l1 distance between points\n",
    "z2 = np.mean(sc.pdist(x2, 'cityblock'))\n",
    "z3 = np.mean(sc.pdist(x3, 'cityblock'))\n",
    "\n",
    "#plot results\n",
    "fig = plt.figure()\n",
    "ax = fig.add_subplot(*[1,3,1])\n",
    "ax.scatter(x1, np.zeros((N,1)))\n",
    "myTitle = 'Avg. L2 Dist.: ' + str(\"%.2f\"%y1) + ' Avg. L1 Dist.: ' + str(\"%.2f\"%z1);\n",
    "ax.set_title(\"\\n\".join(textwrap.wrap(myTitle, 20)))\n",
    "\n",
    "ax = fig.add_subplot(*[1,3,2])\n",
    "ax.scatter(x2[:,0], x2[:,1]) \n",
    "myTitle = 'Avg. L2 Dist.: ' + str(\"%.2f\"%y2) + ' Avg. L1 Dist.: ' + str(\"%.2f\"%z2);\n",
    "ax.set_title(\"\\n\".join(textwrap.wrap(myTitle, 20)))\n",
    "\n",
    "ax = fig.add_subplot(*[1,3,3], projection='3d')\n",
    "ax.scatter(x3[:,0], x3[:,1], x3[:,2]) \n",
    "myTitle = 'Avg. L2 Dist.: ' + str(\"%.2f\"%y3) + ' Avg. L1 Dist.: ' + str(\"%.2f\"%z3);\n",
    "ax.set_title(\"\\n\".join(textwrap.wrap(myTitle, 20)))\n",
    "plt.show();"
   ]
  },
  {
   "cell_type": "code",
   "execution_count": null,
   "metadata": {},
   "outputs": [],
   "source": [
    "#Ill posed system of equations \n",
    "print(np.linalg.inv(np.array([[1, 1],[1, 1.001]]))@np.array([[2],[2]]))\n",
    "print(np.linalg.inv(np.array([[1.001, 1],[1, 1.001]]))@np.array([[2],[2]]))"
   ]
  },
  {
   "cell_type": "code",
   "execution_count": null,
   "metadata": {},
   "outputs": [],
   "source": [
    "#Crust volume between spheres with epsilon different radii and increasing dimensionality\n",
    "a = 1\n",
    "eps = 0.001\n",
    "D = np.arange(1,10000)\n",
    "RatioVol = [1-(1-eps/a)**d for d in D]\n",
    "fig = plt.figure()\n",
    "plt.plot(D, RatioVol)\n",
    "plt.title('Ratio of Volume of Larger Sphere to Smaller Sphere')\n",
    "plt.show() "
   ]
  },
  {
   "cell_type": "code",
   "execution_count": null,
   "metadata": {},
   "outputs": [],
   "source": [
    "#Percentage Volume Illustration (p=.1)\n",
    "\n",
    "p = 0.1\n",
    "fig = plt.figure()\n",
    "x = np.arange(0,1,.05)\n",
    "\n",
    "# 1D \n",
    "ax = fig.add_subplot(*[1,3,1])\n",
    "ax.plot(x, np.zeros(x.size))\n",
    "z = np.arange(0,p,.01)\n",
    "ax.plot(z, np.zeros(z.size), 'r')\n",
    "\n",
    "# 2D \n",
    "ax = fig.add_subplot(*[1,3,2])\n",
    "[xx,yy] = np.meshgrid(x,x)\n",
    "z = np.arange(0,math.sqrt(p),0.01)\n",
    "[zx,zy] = np.meshgrid(z,z)\n",
    "ax.scatter(xx, yy)\n",
    "ax.scatter(zx, zy, color='red')\n",
    "\n",
    "# 3D \n",
    "ax = fig.add_subplot(*[1,3,3], projection='3d')\n",
    "[xx,yy,zz] = np.meshgrid(x,x,x)\n",
    "z = np.arange(0,math.sqrt(p),0.01)\n",
    "[zx,zy,zz2] = np.meshgrid(z,z,z)\n",
    "ax.scatter(xx, yy, zz)\n",
    "ax.scatter(zx, zy, zz2, color='red')\n",
    "plt.show()"
   ]
  },
  {
   "cell_type": "code",
   "execution_count": null,
   "metadata": {},
   "outputs": [],
   "source": [
    "#The Unit Porcupine Plot\n",
    "#The unit hyper-sphere inscribed within the unit hyper-cube.\n",
    "\n",
    "fig = plt.figure()\n",
    "d = range(1,100)\n",
    "V = [math.pi**(i/2)/(2**i*math.gamma(i/2 + 1)) for i in d]\n",
    "ax = fig.add_subplot(*[1,2,1])\n",
    "ax.plot(d, V) \n",
    "ax.set_title('Ratio of Volume')\n",
    "\n",
    "dCorner = [math.sqrt(d) for d in range(1,10000)]\n",
    "ax = fig.add_subplot(*[1,2,2])\n",
    "ax.plot(range(1,10000), dCorner) \n",
    "ax.set_title('Distance to Corner')\n",
    "\n",
    "plt.show();"
   ]
  },
  {
   "cell_type": "code",
   "execution_count": null,
   "metadata": {
    "collapsed": true
   },
   "outputs": [],
   "source": []
  }
 ],
 "metadata": {
  "kernelspec": {
   "display_name": "Python 3",
   "language": "python",
   "name": "python3"
  },
  "language_info": {
   "codemirror_mode": {
    "name": "ipython",
    "version": 3
   },
   "file_extension": ".py",
   "mimetype": "text/x-python",
   "name": "python",
   "nbconvert_exporter": "python",
   "pygments_lexer": "ipython3",
   "version": "3.6.1"
  }
 },
 "nbformat": 4,
 "nbformat_minor": 1
}
