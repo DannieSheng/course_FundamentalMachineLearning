{
 "cells": [
  {
   "cell_type": "markdown",
   "metadata": {},
   "source": [
    "# Polynomial Curve Fitting and Ill-conditioned Systems\n"
   ]
  },
  {
   "cell_type": "code",
   "execution_count": 1,
   "metadata": {
    "collapsed": true
   },
   "outputs": [],
   "source": [
    "#Import needed python libraries\n",
    "import numpy as np\n",
    "import matplotlib\n",
    "import matplotlib.pyplot as plt\n",
    "%matplotlib inline  \n",
    "import math \n",
    "\n",
    "#Parameter Settings\n",
    "M = 10\n",
    "u = 1\n",
    "l = 0\n",
    "N = 10\n",
    "gVar = .15\n",
    "load = 0.005;\n",
    "\n",
    "#First, lets generate some simulated x- data.  \n",
    "x = np.random.uniform(l,u,N)\n"
   ]
  },
  {
   "cell_type": "code",
   "execution_count": 3,
   "metadata": {},
   "outputs": [
    {
     "name": "stdout",
     "output_type": "stream",
     "text": [
      "Condition number of autocorrelation matrix: 2.94660580007e+17\n",
      "Condition number of diagonally-loaded autocorrelation matrix: 4092.9352801\n",
      " \n",
      "Eigenspectrum of autocorrelation matrix: [  2.04596764e+01   2.65427450e+00   2.13878192e-01   7.81480026e-03\n",
      "   3.70472404e-04   2.03055924e-06   1.40962227e-08   2.52682023e-10\n",
      "   5.78634428e-13   1.05280336e-15   6.94347252e-17]\n",
      " \n",
      "Eigenspectrum of diagonally-loaded autocorrelation matrix: [  2.04646764e+01   2.65927450e+00   2.18878192e-01   1.28148003e-02\n",
      "   5.37047240e-03   5.00203056e-03   5.00001410e-03   5.00000025e-03\n",
      "   5.00000000e-03   5.00000000e-03   5.00000000e-03]\n"
     ]
    },
    {
     "data": {
      "image/png": "[encoded data removed]",
      "text/plain": [
       "<matplotlib.figure.Figure at 0x1116674a8>"
      ]
     },
     "metadata": {},
     "output_type": "display_data"
    },
    {
     "data": {
      "text/plain": [
       "<matplotlib.figure.Figure at 0x115433470>"
      ]
     },
     "metadata": {},
     "output_type": "display_data"
    }
   ],
   "source": [
    "#Next, lets generate some noise\n",
    "e = np.random.normal(0,gVar,N)\n",
    "\n",
    "# Suppose the true function is a sine curve and add the noise\n",
    "t = np.sin(2*math.pi*x) + e\n",
    "\n",
    "#Then we can fit the data using the polynomial curve fitting method we derived\n",
    "X = np.array([x**m for m in range(M+1)]).T\n",
    "Z = X.T@X\n",
    "Z_w = X.T@X + load*np.identity(X.shape[1])\n",
    "w = np.linalg.inv(Z)@X.T@t\n",
    "w_w = np.linalg.inv(Z_w)@X.T@t\n",
    "\n",
    "#Now let us use the weights in test and plot results\n",
    "xrange = np.arange(l,u,0.001)  #get equally spaced points in the xrange\n",
    "y = np.sin(2*math.pi*xrange) #compute the true function value\n",
    "X = np.array([xrange**m for m in range(w.size)]).T\n",
    "esty = X@w #compute the predicted value\n",
    "esty_w = X@w_w\n",
    "\n",
    "#plot everything\n",
    "fig = plt.figure();\n",
    "ax = fig.gca();\n",
    "p1 = plt.plot(xrange, y, 'g'); #plot true value\n",
    "p2 = plt.plot(x, t, 'bo'); #plot training data\n",
    "p3 = plt.plot(xrange, esty, 'r'); #plot estimated value\n",
    "p4 = plt.plot(xrange, esty_w, 'c'); #plot estimated value\n",
    "\n",
    "#add legend and axes labels\n",
    "plt.ylabel('t'); #label x and y axes\n",
    "plt.xlabel('x');\n",
    "ax.set_ylim(-2, 2);\n",
    "plt.rcParams[\"axes.titlesize\"] = 10;\n",
    "plt.legend((p1[0],p2[0],p3[0], p4[0]),('True Function', 'Training Data', 'Estimated\\nPolynomial', 'Loaded\\nPolynomial'), fontsize=6);\n",
    "\n",
    "eZ, vZ = np.linalg.eig(Z)\n",
    "eZ_w, vZ_w = np.linalg.eig(Z_w)\n",
    "\n",
    "fig = plt.figure();\n",
    "\n",
    "print('Condition number of autocorrelation matrix:',max(eZ)/min(eZ) ) \n",
    "print('Condition number of diagonally-loaded autocorrelation matrix:', max(eZ_w)/min(eZ_w))\n",
    "print(' ')\n",
    "print('Eigenspectrum of autocorrelation matrix:', eZ)\n",
    "print(' ')\n",
    "print('Eigenspectrum of diagonally-loaded autocorrelation matrix:', eZ_w)"
   ]
  },
  {
   "cell_type": "markdown",
   "metadata": {},
   "source": [
    "# Curse of Dimensionality Illustrations"
   ]
  },
  {
   "cell_type": "code",
   "execution_count": null,
   "metadata": {},
   "outputs": [],
   "source": [
    "'''Illustrate that average distance between uniform random points increases when dimensionality\n",
    "increases and number of data points held constant. Illustrates that you need more and more\n",
    "points to characterize the unit cube as you go up in dimensionality.'''\n",
    "\n",
    "from mpl_toolkits.mplot3d import Axes3D\n",
    "import scipy.spatial.distance as sc \n",
    "import textwrap\n",
    "\n",
    "x1 = np.random.uniform(0,1,(N,1)) #generate N uniform random data points in the unit interval\n",
    "x2 = np.random.uniform(0,1,(N,2)) #generate N uniform random data points in the unit square\n",
    "x3 = np.random.uniform(0,1,(N,3)) #generate N uniform random data points in the unit cube\n",
    "y1 = np.mean(sc.pdist(x1, 'euclidean')) #compute avg euclidean distance between points\n",
    "y2 = np.mean(sc.pdist(x2, 'euclidean'))\n",
    "y3 = np.mean(sc.pdist(x3, 'euclidean'))\n",
    "z1 = np.mean(sc.pdist(x1, 'cityblock')) #compute l1 distance between points\n",
    "z2 = np.mean(sc.pdist(x2, 'cityblock'))\n",
    "z3 = np.mean(sc.pdist(x3, 'cityblock'))\n",
    "\n",
    "#plot results\n",
    "fig = plt.figure()\n",
    "ax = fig.add_subplot(*[1,3,1])\n",
    "ax.scatter(x1, np.zeros((N,1)))\n",
    "myTitle = 'Avg. L2 Dist.: ' + str(\"%.2f\"%y1) + ' Avg. L1 Dist.: ' + str(\"%.2f\"%z1);\n",
    "ax.set_title(\"\\n\".join(textwrap.wrap(myTitle, 20)))\n",
    "\n",
    "ax = fig.add_subplot(*[1,3,2])\n",
    "ax.scatter(x2[:,0], x2[:,1]) \n",
    "myTitle = 'Avg. L2 Dist.: ' + str(\"%.2f\"%y2) + ' Avg. L1 Dist.: ' + str(\"%.2f\"%z2);\n",
    "ax.set_title(\"\\n\".join(textwrap.wrap(myTitle, 20)))\n",
    "\n",
    "ax = fig.add_subplot(*[1,3,3], projection='3d')\n",
    "ax.scatter(x3[:,0], x3[:,1], x3[:,2]) \n",
    "myTitle = 'Avg. L2 Dist.: ' + str(\"%.2f\"%y3) + ' Avg. L1 Dist.: ' + str(\"%.2f\"%z3);\n",
    "ax.set_title(\"\\n\".join(textwrap.wrap(myTitle, 20)))\n",
    "plt.show();"
   ]
  },
  {
   "cell_type": "code",
   "execution_count": null,
   "metadata": {},
   "outputs": [],
   "source": [
    "#Crust volume between spheres with epsilon different radii and increasing dimensionality\n",
    "a = 1\n",
    "eps = 0.001\n",
    "D = np.arange(1,10000)\n",
    "RatioVol = [1-(1-eps/a)**d for d in D]\n",
    "fig = plt.figure()\n",
    "plt.plot(D, RatioVol)\n",
    "plt.title('Ratio of Volume of Larger Sphere to Smaller Sphere')\n",
    "plt.show() "
   ]
  },
  {
   "cell_type": "code",
   "execution_count": null,
   "metadata": {},
   "outputs": [],
   "source": [
    "#Percentage Volume Illustration (p=.1)\n",
    "\n",
    "p = 0.1\n",
    "fig = plt.figure()\n",
    "x = np.arange(0,1,.05)\n",
    "\n",
    "# 1D \n",
    "ax = fig.add_subplot(*[1,3,1])\n",
    "ax.plot(x, np.zeros(x.size))\n",
    "z = np.arange(0,p,.01)\n",
    "ax.plot(z, np.zeros(z.size), 'r')\n",
    "\n",
    "# 2D \n",
    "ax = fig.add_subplot(*[1,3,2])\n",
    "[xx,yy] = np.meshgrid(x,x)\n",
    "z = np.arange(0,math.sqrt(p),0.01)\n",
    "[zx,zy] = np.meshgrid(z,z)\n",
    "ax.scatter(xx, yy)\n",
    "ax.scatter(zx, zy, color='red')\n",
    "\n",
    "# 3D \n",
    "ax = fig.add_subplot(*[1,3,3], projection='3d')\n",
    "[xx,yy,zz] = np.meshgrid(x,x,x)\n",
    "z = np.arange(0,math.sqrt(p),0.01)\n",
    "[zx,zy,zz2] = np.meshgrid(z,z,z)\n",
    "ax.scatter(xx, yy, zz)\n",
    "ax.scatter(zx, zy, zz2, color='red')\n",
    "plt.show()"
   ]
  },
  {
   "cell_type": "code",
   "execution_count": null,
   "metadata": {},
   "outputs": [],
   "source": [
    "#The Unit Porcupine Plot\n",
    "#The unit hyper-sphere inscribed within the unit hyper-cube.\n",
    "\n",
    "fig = plt.figure()\n",
    "d = range(1,100)\n",
    "V = [math.pi**(i/2)/(2**i*math.gamma(i/2 + 1)) for i in d]\n",
    "ax = fig.add_subplot(*[1,2,1])\n",
    "ax.plot(d, V) \n",
    "ax.set_title('Ratio of Volume')\n",
    "\n",
    "dCorner = [math.sqrt(d) for d in range(1,10000)]\n",
    "ax = fig.add_subplot(*[1,2,2])\n",
    "ax.plot(range(1,10000), dCorner) \n",
    "ax.set_title('Distance to Corner')\n",
    "\n",
    "plt.show();"
   ]
  },
  {
   "cell_type": "code",
   "execution_count": null,
   "metadata": {
    "collapsed": true
   },
   "outputs": [],
   "source": []
  }
 ],
 "metadata": {
  "kernelspec": {
   "display_name": "Python 3",
   "language": "python",
   "name": "python3"
  },
  "language_info": {
   "codemirror_mode": {
    "name": "ipython",
    "version": 3
   },
   "file_extension": ".py",
   "mimetype": "text/x-python",
   "name": "python",
   "nbconvert_exporter": "python",
   "pygments_lexer": "ipython3",
   "version": "3.6.1"
  }
 },
 "nbformat": 4,
 "nbformat_minor": 1
}
