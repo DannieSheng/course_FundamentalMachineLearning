{
 "cells": [
  {
   "cell_type": "markdown",
   "metadata": {},
   "source": [
    "# Regularization and ML vs. MAP"
   ]
  },
  {
   "cell_type": "code",
   "execution_count": 1,
   "metadata": {},
   "outputs": [],
   "source": [
    "import numpy as np\n",
    "import matplotlib.pyplot as plt\n",
    "import math \n",
    "import textwrap\n",
    "%matplotlib inline  \n"
   ]
  },
  {
   "cell_type": "code",
   "execution_count": 2,
   "metadata": {},
   "outputs": [],
   "source": [
    "def generateData(N, l, u, gVar):\n",
    "\t'''generateData(N, l, u, gVar): Generate N \n",
    "    uniformly spaced data points in the range [l,u) with \n",
    "    zero-mean Gaussian random noise with variance gVar'''\n",
    "\t# x = np.random.uniform(l,u,N)\n",
    "\tstep = (u-l)/(N);\n",
    "\tx = np.arange(l+step/2,u+step/2,step)\n",
    "\te = np.random.normal(0,gVar,N)\n",
    "\tt = np.sin(2*math.pi*x) + e\n",
    "\treturn x,t\n",
    "\n",
    "def fitdataReg(x,t,M,la):\n",
    "\t'''fitdata(x,t,M): Fit a polynomial of order M to the data (x,t)'''\t\n",
    "\tX = np.array([x**m for m in range(M+1)]).T\n",
    "\tw = np.linalg.inv(X.T@X+(la*np.identity(M+1)))@X.T@t\n",
    "\treturn w\n",
    "\n",
    "def plotPoly(x,t,w,l,u,subplotloc,la=0):\n",
    "\t'''plotPoly(x,t,w,l,u,subplotloc): Plot data (x,t) and the\n",
    "    polynomial with parameters w across the range [l,u) in a sub-figure\n",
    "    at location subplotloc'''\n",
    "\txrange = np.arange(l,u,0.001)  #get equally spaced points in the xrange\n",
    "\ty = np.sin(2*math.pi*xrange) #compute the true function value\n",
    "\tX = np.array([xrange**m for m in range(w.size)]).T\n",
    "\testy = X@w #compute the predicted value\n",
    "    \n",
    "\tplt.subplot(*subplotloc) #identify the subplot to use\n",
    "\tplt.tight_layout()\n",
    "\tp1 = plt.plot(xrange, y, 'g') #plot true value\n",
    "\tp2 = plt.plot(x, t, 'bo') #plot training data\n",
    "\tp3 = plt.plot(xrange, esty, 'r') #plot estimated value\n",
    "\n",
    "\t#add title, legend and axes labels\n",
    "\tplt.ylabel('t') #label x and y axes\n",
    "\tplt.xlabel('x')\n",
    "\tplt.rcParams[\"axes.titlesize\"] = 10\n",
    "\tmyTitle = 'Plot of data, true function, and estimated polynomial with order M = ' + str(w.size-1) + ', N =' + str(x.size) + ', lambda =' + str(la)\n",
    "\tfig.add_subplot(*subplotloc).set_title(\"\\n\".join(textwrap.wrap(myTitle, 50)))\n",
    "\tplt.legend((p1[0],p2[0],p3[0]),('True Function', 'Training Data', 'Estimated\\nPolynomial'), fontsize=6)\n",
    "\n"
   ]
  },
  {
   "cell_type": "code",
   "execution_count": null,
   "metadata": {
    "scrolled": false
   },
   "outputs": [],
   "source": [
    "\tfig = plt.figure();\n",
    "\tx,t = generateData(20,0,1,1)  #Generate data with 15 data points no regularization\n",
    "\tw = fitdataReg(x,t,10,0)\n",
    "\tprint(w)\n",
    "\tplotPoly(x,t,w,0.05,.95,[1,2,1]) \n",
    "\n",
    "\tw = fitdataReg(x,t,4,0)\n",
    "\tprint(w)\n",
    "\tplotPoly(x,t,w,0.05,.95,[1,2,2]) \n",
    "\n",
    "\tplt.show();"
   ]
  },
  {
   "cell_type": "code",
   "execution_count": null,
   "metadata": {},
   "outputs": [],
   "source": [
    "def plotBeta(a=2,b=2):\n",
    "\t'''plotBeta(a=1,b=1): Plot plot beta distribution with parameters a and b'''\n",
    "\txrange = np.arange(0,1,0.001)  #get equally spaced points in the xrange\n",
    "\tnormconst = math.gamma(a+b)/(math.gamma(a)*math.gamma(b))\n",
    "\tbeta = normconst*xrange**(a-1)*(1-xrange)**(b-1)\n",
    "\tfig = plt.figure()\n",
    "\tp1 = plt.plot(xrange,beta, 'g')\n",
    "\tplt.show()\n",
    "\n",
    "\n",
    "#Beta Distribution\n",
    "plotBeta(2,4);\n",
    "\n",
    "trueMu = 0.5\n",
    "numFlips = 10\n",
    "priorA = 2\n",
    "priorB = 2\n",
    "flipResult = []\n",
    "for flip in range(numFlips):\n",
    "    flipResult.append(np.random.binomial(1,trueMu,1)[0])\n",
    "    print(flipResult)\n",
    "    print('Frequentist/Maximum Likelihood Probability of Heads:' + str(sum(flipResult)/len(flipResult)))\n",
    "    print('Bayesian/MAP Probability of Heads:' + str((sum(flipResult)+priorA-1)/(len(flipResult)+priorA+priorB-2)))\n",
    "    input(\"Hit enter to continue...\\n\")"
   ]
  }
 ],
 "metadata": {
  "kernelspec": {
   "display_name": "Python 3",
   "language": "python",
   "name": "python3"
  },
  "language_info": {
   "codemirror_mode": {
    "name": "ipython",
    "version": 3
   },
   "file_extension": ".py",
   "mimetype": "text/x-python",
   "name": "python",
   "nbconvert_exporter": "python",
   "pygments_lexer": "ipython3",
   "version": "3.6.1"
  }
 },
 "nbformat": 4,
 "nbformat_minor": 1
}
