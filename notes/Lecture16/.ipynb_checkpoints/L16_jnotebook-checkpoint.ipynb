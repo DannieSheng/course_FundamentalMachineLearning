{
 "cells": [
  {
   "cell_type": "markdown",
   "metadata": {},
   "source": [
    "# Regularization and ML vs. MAP"
   ]
  },
  {
   "cell_type": "code",
   "execution_count": null,
   "metadata": {},
   "outputs": [],
   "source": [
    "import numpy as np\n",
    "import matplotlib.pyplot as plt\n",
    "import math \n",
    "import textwrap\n",
    "%matplotlib inline  \n"
   ]
  },
  {
   "cell_type": "code",
   "execution_count": null,
   "metadata": {},
   "outputs": [],
   "source": [
    "def plotBeta(a=2,b=2):\n",
    "\t'''plotBeta(a=1,b=1): Plot plot beta distribution with parameters a and b'''\n",
    "\txrange = np.arange(0,1,0.001)  #get equally spaced points in the xrange\n",
    "\tnormconst = math.gamma(a+b)/(math.gamma(a)*math.gamma(b))\n",
    "\tbeta = normconst*xrange**(a-1)*(1-xrange)**(b-1)\n",
    "\tfig = plt.figure()\n",
    "\tp1 = plt.plot(xrange,beta, 'g')\n",
    "\tplt.show()\n",
    "\n",
    "\n",
    "#Beta Distribution\n",
    "plotBeta(2,4);"
   ]
  },
  {
   "cell_type": "code",
   "execution_count": null,
   "metadata": {},
   "outputs": [],
   "source": [
    "trueMu = 0.5\n",
    "numFlips = 10\n",
    "priorA = 2\n",
    "priorB = 2\n",
    "flipResult = []\n",
    "for flip in range(numFlips):\n",
    "    flipResult.append(np.random.binomial(1,trueMu,1)[0])\n",
    "    print(flipResult)\n",
    "    print('Frequentist/Maximum Likelihood Probability of Heads:' + str(sum(flipResult)/len(flipResult)))\n",
    "    print('Bayesian/MAP Probability of Heads:' + str((sum(flipResult)+priorA-1)/(len(flipResult)+priorA+priorB-2)))\n",
    "    input(\"Hit enter to continue...\\n\")"
   ]
  },
  {
   "cell_type": "code",
   "execution_count": null,
   "metadata": {
    "collapsed": true
   },
   "outputs": [],
   "source": []
  }
 ],
 "metadata": {
  "kernelspec": {
   "display_name": "Python 3",
   "language": "python",
   "name": "python3"
  },
  "language_info": {
   "codemirror_mode": {
    "name": "ipython",
    "version": 3
   },
   "file_extension": ".py",
   "mimetype": "text/x-python",
   "name": "python",
   "nbconvert_exporter": "python",
   "pygments_lexer": "ipython3",
   "version": "3.5.2"
  }
 },
 "nbformat": 4,
 "nbformat_minor": 1
}
