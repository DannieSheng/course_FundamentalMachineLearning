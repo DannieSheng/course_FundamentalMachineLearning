{
 "cells": [
  {
   "cell_type": "markdown",
   "metadata": {},
   "source": [
    "# Regularization and ML vs. MAP"
   ]
  },
  {
   "cell_type": "code",
   "execution_count": 2,
   "metadata": {
    "collapsed": true
   },
   "outputs": [],
   "source": [
    "import numpy as np\n",
    "import matplotlib.pyplot as plt\n",
    "import math \n",
    "import textwrap\n",
    "%matplotlib inline  \n"
   ]
  },
  {
   "cell_type": "code",
   "execution_count": 3,
   "metadata": {},
   "outputs": [
    {
     "data": {
      "image/png": "[encoded data removed]",
      "text/plain": [
       "<matplotlib.figure.Figure at 0x10d65ae80>"
      ]
     },
     "metadata": {},
     "output_type": "display_data"
    }
   ],
   "source": [
    "def plotBeta(a=2,b=2):\n",
    "\t'''plotBeta(a=1,b=1): Plot plot beta distribution with parameters a and b'''\n",
    "\txrange = np.arange(0,1,0.001)  #get equally spaced points in the xrange\n",
    "\tnormconst = math.gamma(a+b)/(math.gamma(a)*math.gamma(b))\n",
    "\tbeta = normconst*xrange**(a-1)*(1-xrange)**(b-1)\n",
    "\tfig = plt.figure()\n",
    "\tp1 = plt.plot(xrange,beta, 'g')\n",
    "\tplt.show()\n",
    "\n",
    "\n",
    "#Beta Distribution\n",
    "plotBeta(10,10);"
   ]
  },
  {
   "cell_type": "code",
   "execution_count": 4,
   "metadata": {},
   "outputs": [
    {
     "name": "stdout",
     "output_type": "stream",
     "text": [
      "[1]\n",
      "Frequentist/Maximum Likelihood Probability of Heads:1.0\n",
      "Bayesian/MAP Probability of Heads:0.909090909091\n",
      "Hit enter to continue...\n",
      "\n",
      "[1, 0]\n",
      "Frequentist/Maximum Likelihood Probability of Heads:0.5\n",
      "Bayesian/MAP Probability of Heads:0.833333333333\n",
      "Hit enter to continue...\n",
      "\n",
      "[1, 0, 0]\n",
      "Frequentist/Maximum Likelihood Probability of Heads:0.333333333333\n",
      "Bayesian/MAP Probability of Heads:0.769230769231\n",
      "Hit enter to continue...\n",
      "\n",
      "[1, 0, 0, 0]\n",
      "Frequentist/Maximum Likelihood Probability of Heads:0.25\n",
      "Bayesian/MAP Probability of Heads:0.714285714286\n",
      "Hit enter to continue...\n",
      "\n",
      "[1, 0, 0, 0, 0]\n",
      "Frequentist/Maximum Likelihood Probability of Heads:0.2\n",
      "Bayesian/MAP Probability of Heads:0.666666666667\n",
      "Hit enter to continue...\n",
      "\n",
      "[1, 0, 0, 0, 0, 0]\n",
      "Frequentist/Maximum Likelihood Probability of Heads:0.166666666667\n",
      "Bayesian/MAP Probability of Heads:0.625\n",
      "Hit enter to continue...\n",
      "\n",
      "[1, 0, 0, 0, 0, 0, 1]\n",
      "Frequentist/Maximum Likelihood Probability of Heads:0.285714285714\n",
      "Bayesian/MAP Probability of Heads:0.647058823529\n",
      "Hit enter to continue...\n",
      "\n",
      "[1, 0, 0, 0, 0, 0, 1, 0]\n",
      "Frequentist/Maximum Likelihood Probability of Heads:0.25\n",
      "Bayesian/MAP Probability of Heads:0.611111111111\n",
      "Hit enter to continue...\n",
      "\n",
      "[1, 0, 0, 0, 0, 0, 1, 0, 0]\n",
      "Frequentist/Maximum Likelihood Probability of Heads:0.222222222222\n",
      "Bayesian/MAP Probability of Heads:0.578947368421\n",
      "Hit enter to continue...\n",
      "\n",
      "[1, 0, 0, 0, 0, 0, 1, 0, 0, 0]\n",
      "Frequentist/Maximum Likelihood Probability of Heads:0.2\n",
      "Bayesian/MAP Probability of Heads:0.55\n",
      "Hit enter to continue...\n",
      "\n"
     ]
    }
   ],
   "source": [
    "trueMu = 0.5\n",
    "numFlips = 10\n",
    "priorA = 10\n",
    "priorB = 2\n",
    "flipResult = []\n",
    "for flip in range(numFlips):\n",
    "    flipResult.append(np.random.binomial(1,trueMu,1)[0])\n",
    "    print(flipResult)\n",
    "    print('Frequentist/Maximum Likelihood Probability of Heads:' + str(sum(flipResult)/len(flipResult)))\n",
    "    print('Bayesian/MAP Probability of Heads:' + str((sum(flipResult)+priorA-1)/(len(flipResult)+priorA+priorB-2)))\n",
    "    input(\"Hit enter to continue...\\n\")"
   ]
  },
  {
   "cell_type": "code",
   "execution_count": null,
   "metadata": {
    "collapsed": true
   },
   "outputs": [],
   "source": [
    "\n"
   ]
  }
 ],
 "metadata": {
  "kernelspec": {
   "display_name": "Python 3",
   "language": "python",
   "name": "python3"
  },
  "language_info": {
   "codemirror_mode": {
    "name": "ipython",
    "version": 3
   },
   "file_extension": ".py",
   "mimetype": "text/x-python",
   "name": "python",
   "nbconvert_exporter": "python",
   "pygments_lexer": "ipython3",
   "version": "3.6.1"
  }
 },
 "nbformat": 4,
 "nbformat_minor": 1
}
